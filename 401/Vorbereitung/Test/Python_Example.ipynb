{
 "cells": [
  {
   "cell_type": "code",
   "execution_count": 22,
   "id": "e0b75ecc",
   "metadata": {},
   "outputs": [],
   "source": [
    "import numpy as np # Numpy is a fundamental package for scientific computation in python. Check it out if you don't know it already!\n",
    "import pandas as pd\n",
    "import matplotlib.pyplot as plt"
   ]
  },
  {
   "cell_type": "markdown",
   "id": "5825b040",
   "metadata": {
    "tags": []
   },
   "source": [
    "# Data visualisation with Pandas and Matplotlib"
   ]
  },
  {
   "cell_type": "markdown",
   "id": "84cfe834",
   "metadata": {
    "tags": []
   },
   "source": [
    "## Pandas"
   ]
  },
  {
   "cell_type": "markdown",
   "id": "397ab5e9",
   "metadata": {},
   "source": [
    "import data as dataframe using pandas read_csv"
   ]
  },
  {
   "cell_type": "markdown",
   "id": "7237ac7f",
   "metadata": {},
   "source": [
    "Quick introduction can be found here : https://pandas.pydata.org/docs/user_guide/10min.html"
   ]
  },
  {
   "cell_type": "code",
   "execution_count": 23,
   "id": "78c3f3a4",
   "metadata": {},
   "outputs": [],
   "source": [
    "data =  pd.read_csv('synth_data.txt',sep=';',names=['angle','intensity'],skiprows=1)"
   ]
  },
  {
   "cell_type": "code",
   "execution_count": 24,
   "id": "422b45b6",
   "metadata": {},
   "outputs": [
    {
     "data": {
      "text/html": [
       "<div>\n",
       "<style scoped>\n",
       "    .dataframe tbody tr th:only-of-type {\n",
       "        vertical-align: middle;\n",
       "    }\n",
       "\n",
       "    .dataframe tbody tr th {\n",
       "        vertical-align: top;\n",
       "    }\n",
       "\n",
       "    .dataframe thead th {\n",
       "        text-align: right;\n",
       "    }\n",
       "</style>\n",
       "<table border=\"1\" class=\"dataframe\">\n",
       "  <thead>\n",
       "    <tr style=\"text-align: right;\">\n",
       "      <th></th>\n",
       "      <th>angle</th>\n",
       "      <th>intensity</th>\n",
       "    </tr>\n",
       "  </thead>\n",
       "  <tbody>\n",
       "    <tr>\n",
       "      <th>0</th>\n",
       "      <td>-5.00000</td>\n",
       "      <td>3.035860</td>\n",
       "    </tr>\n",
       "    <tr>\n",
       "      <th>1</th>\n",
       "      <td>-4.98999</td>\n",
       "      <td>2.902397</td>\n",
       "    </tr>\n",
       "    <tr>\n",
       "      <th>2</th>\n",
       "      <td>-4.97998</td>\n",
       "      <td>2.890226</td>\n",
       "    </tr>\n",
       "    <tr>\n",
       "      <th>3</th>\n",
       "      <td>-4.96997</td>\n",
       "      <td>2.953325</td>\n",
       "    </tr>\n",
       "    <tr>\n",
       "      <th>4</th>\n",
       "      <td>-4.95996</td>\n",
       "      <td>2.847500</td>\n",
       "    </tr>\n",
       "    <tr>\n",
       "      <th>...</th>\n",
       "      <td>...</td>\n",
       "      <td>...</td>\n",
       "    </tr>\n",
       "    <tr>\n",
       "      <th>995</th>\n",
       "      <td>4.95996</td>\n",
       "      <td>2.919206</td>\n",
       "    </tr>\n",
       "    <tr>\n",
       "      <th>996</th>\n",
       "      <td>4.96997</td>\n",
       "      <td>2.864416</td>\n",
       "    </tr>\n",
       "    <tr>\n",
       "      <th>997</th>\n",
       "      <td>4.97998</td>\n",
       "      <td>2.920909</td>\n",
       "    </tr>\n",
       "    <tr>\n",
       "      <th>998</th>\n",
       "      <td>4.98999</td>\n",
       "      <td>2.922681</td>\n",
       "    </tr>\n",
       "    <tr>\n",
       "      <th>999</th>\n",
       "      <td>5.00000</td>\n",
       "      <td>2.934428</td>\n",
       "    </tr>\n",
       "  </tbody>\n",
       "</table>\n",
       "<p>1000 rows × 2 columns</p>\n",
       "</div>"
      ],
      "text/plain": [
       "       angle  intensity\n",
       "0   -5.00000   3.035860\n",
       "1   -4.98999   2.902397\n",
       "2   -4.97998   2.890226\n",
       "3   -4.96997   2.953325\n",
       "4   -4.95996   2.847500\n",
       "..       ...        ...\n",
       "995  4.95996   2.919206\n",
       "996  4.96997   2.864416\n",
       "997  4.97998   2.920909\n",
       "998  4.98999   2.922681\n",
       "999  5.00000   2.934428\n",
       "\n",
       "[1000 rows x 2 columns]"
      ]
     },
     "execution_count": 24,
     "metadata": {},
     "output_type": "execute_result"
    }
   ],
   "source": [
    "data"
   ]
  },
  {
   "cell_type": "markdown",
   "id": "9bd5c3bc",
   "metadata": {},
   "source": [
    "You can extract the values of this dataframe easily in several ways:"
   ]
  },
  {
   "cell_type": "code",
   "execution_count": 25,
   "id": "d44927b8",
   "metadata": {},
   "outputs": [
    {
     "data": {
      "text/plain": [
       "(0      3.035860\n",
       " 1      2.902397\n",
       " 2      2.890226\n",
       " 3      2.953325\n",
       " 4      2.847500\n",
       "          ...   \n",
       " 995    2.919206\n",
       " 996    2.864416\n",
       " 997    2.920909\n",
       " 998    2.922681\n",
       " 999    2.934428\n",
       " Name: intensity, Length: 1000, dtype: float64,\n",
       " 0      3.035860\n",
       " 1      2.902397\n",
       " 2      2.890226\n",
       " 3      2.953325\n",
       " 4      2.847500\n",
       "          ...   \n",
       " 995    2.919206\n",
       " 996    2.864416\n",
       " 997    2.920909\n",
       " 998    2.922681\n",
       " 999    2.934428\n",
       " Name: intensity, Length: 1000, dtype: float64)"
      ]
     },
     "execution_count": 25,
     "metadata": {},
     "output_type": "execute_result"
    }
   ],
   "source": [
    "data['intensity'], data.intensity #Both give the same result"
   ]
  },
  {
   "cell_type": "code",
   "execution_count": 28,
   "id": "63734e00",
   "metadata": {},
   "outputs": [],
   "source": [
    "data.intensity.values; #Remove the ';' to see the full glory"
   ]
  },
  {
   "cell_type": "markdown",
   "id": "852c2ede",
   "metadata": {},
   "source": [
    "Pandas has some neat built in functions for some quick maths e.g. to calculate the mean of a column"
   ]
  },
  {
   "cell_type": "code",
   "execution_count": 29,
   "id": "70fb3f5e",
   "metadata": {},
   "outputs": [
    {
     "data": {
      "text/plain": [
       "(3.9435234416869105, 0.5162251051659121, 2.847500417321436, 5.184228915730239)"
      ]
     },
     "execution_count": 29,
     "metadata": {},
     "output_type": "execute_result"
    }
   ],
   "source": [
    "data.intensity.mean(), data.intensity.std(), data.intensity.min(), data.intensity.max()"
   ]
  },
  {
   "cell_type": "markdown",
   "id": "16cba025",
   "metadata": {
    "tags": []
   },
   "source": [
    "## Matplotlib pyplot"
   ]
  },
  {
   "cell_type": "markdown",
   "id": "63d854ea",
   "metadata": {},
   "source": [
    "You can plot (and save) data easily using matplotlib pyplot\n",
    "https://matplotlib.org/stable/tutorials/introductory/pyplot.html"
   ]
  },
  {
   "cell_type": "code",
   "execution_count": 30,
   "id": "1482cb18",
   "metadata": {},
   "outputs": [
    {
     "data": {
      "text/plain": [
       "[<matplotlib.lines.Line2D at 0x1603fc04610>]"
      ]
     },
     "execution_count": 30,
     "metadata": {},
     "output_type": "execute_result"
    },
    {
     "data": {
      "image/png": "[encoded data removed]",
      "text/plain": [
       "<Figure size 432x288 with 1 Axes>"
      ]
     },
     "metadata": {
      "needs_background": "light"
     },
     "output_type": "display_data"
    }
   ],
   "source": [
    "plt.plot(data['angle'],data['intensity'])"
   ]
  },
  {
   "cell_type": "markdown",
   "id": "5f99c9fd",
   "metadata": {},
   "source": [
    "Select data of first peak using pandas.query"
   ]
  },
  {
   "cell_type": "code",
   "execution_count": 31,
   "id": "e5d95602",
   "metadata": {},
   "outputs": [],
   "source": [
    "data_1st_peak = data.query('-2.5<angle<-1.5') "
   ]
  },
  {
   "cell_type": "markdown",
   "id": "26841d51",
   "metadata": {},
   "source": [
    "You can easily adjust your plot and give it labels for example. For details have a look at the documentation and remember: Google is your friend"
   ]
  },
  {
   "cell_type": "code",
   "execution_count": 32,
   "id": "478a04bc",
   "metadata": {},
   "outputs": [
    {
     "data": {
      "image/png": "[encoded data removed]",
      "text/plain": [
       "<Figure size 432x288 with 1 Axes>"
      ]
     },
     "metadata": {
      "needs_background": "light"
     },
     "output_type": "display_data"
    }
   ],
   "source": [
    "plt.plot(data_1st_peak['angle'],data_1st_peak['intensity'])\n",
    "plt.xlabel('angle')\n",
    "plt.grid()"
   ]
  },
  {
   "cell_type": "markdown",
   "id": "0914582a",
   "metadata": {
    "tags": []
   },
   "source": [
    "## Fitting data using lmfit"
   ]
  },
  {
   "cell_type": "markdown",
   "id": "e51e03af",
   "metadata": {},
   "source": [
    "Define the function that we want to model. Note that the most common functions are usually included in lmfit already."
   ]
  },
  {
   "cell_type": "code",
   "execution_count": 33,
   "id": "81da4d3d",
   "metadata": {
    "tags": []
   },
   "outputs": [],
   "source": [
    "def Gaussian(x, a, x0, sigma, offset=0):\n",
    "    \"\"\"\n",
    "    1-dimensional Gaussian distribution\n",
    "\n",
    "    Parameters\n",
    "    ----------\n",
    "    x : np.array\n",
    "        Coordinates\n",
    "    a : float\n",
    "        Amplitude\n",
    "    x0 : float\n",
    "        Center\n",
    "    sigma : float\n",
    "        Standard deviation\n",
    "    offset : float, optional\n",
    "        Absolute offset value, defaults to 0\n",
    "\n",
    "    Returns\n",
    "    -------\n",
    "    np.array\n",
    "    \"\"\"\n",
    "    gauss = a * (1 / (sigma * np.sqrt(2 * np.pi))) * np.exp(-0.5 * np.square((x-x0)/sigma))\n",
    "    return offset + gauss"
   ]
  },
  {
   "cell_type": "code",
   "execution_count": 34,
   "id": "f6ed8b94",
   "metadata": {
    "tags": []
   },
   "outputs": [],
   "source": [
    "def Double_Gaussian_lin_off(x,a1,x01,sigma1,a2,x02,sigma2,ax,bx):\n",
    "    '''Sum of two Gaussians and a linear offset \n",
    "    '''\n",
    "    return Gaussian(x,a1,x01,sigma1)+Gaussian(x,a2,x02,sigma2)+ax*x+bx"
   ]
  },
  {
   "cell_type": "markdown",
   "id": "c9bc925f",
   "metadata": {},
   "source": [
    "Use lmfit to model data"
   ]
  },
  {
   "cell_type": "code",
   "execution_count": 35,
   "id": "e083feb9",
   "metadata": {
    "tags": []
   },
   "outputs": [],
   "source": [
    "import lmfit"
   ]
  },
  {
   "cell_type": "markdown",
   "id": "d524e672",
   "metadata": {},
   "source": [
    "Quick introduction to lmfit: https://lmfit.github.io/lmfit-py/model.html"
   ]
  },
  {
   "cell_type": "code",
   "execution_count": 36,
   "id": "c8dd30c9",
   "metadata": {
    "tags": []
   },
   "outputs": [],
   "source": [
    "gmodel = lmfit.Model(Double_Gaussian_lin_off)"
   ]
  },
  {
   "cell_type": "code",
   "execution_count": 37,
   "id": "b46305f9",
   "metadata": {
    "tags": []
   },
   "outputs": [
    {
     "name": "stdout",
     "output_type": "stream",
     "text": [
      "parameter names: ['a1', 'x01', 'sigma1', 'a2', 'x02', 'sigma2', 'ax', 'bx']\n",
      "independent variables: ['x']\n"
     ]
    }
   ],
   "source": [
    "print(f'parameter names: {gmodel.param_names}')\n",
    "print(f'independent variables: {gmodel.independent_vars}')"
   ]
  },
  {
   "cell_type": "markdown",
   "id": "a042bedc",
   "metadata": {},
   "source": [
    "Set the initial parameters for our model"
   ]
  },
  {
   "cell_type": "code",
   "execution_count": 38,
   "id": "8fd43def",
   "metadata": {},
   "outputs": [],
   "source": [
    "init_params = dict(a1=0.11, x01=-2, sigma1=0.04,\n",
    "                   a2=0.11, x02=-1.85, sigma2=0.04,\n",
    "                   ax=0, bx=4)"
   ]
  },
  {
   "cell_type": "code",
   "execution_count": 39,
   "id": "ff5b8345",
   "metadata": {},
   "outputs": [],
   "source": [
    "params = gmodel.make_params(**init_params)"
   ]
  },
  {
   "cell_type": "code",
   "execution_count": 40,
   "id": "b0ac3fe8",
   "metadata": {},
   "outputs": [
    {
     "data": {
      "text/html": [
       "<table><tr><th> name </th><th> value </th><th> initial value </th><th> min </th><th> max </th><th> vary </th></tr><tr><td> a1 </td><td>  0.11000000 </td><td> None </td><td>        -inf </td><td>         inf </td><td> True </td></tr><tr><td> x01 </td><td> -2.00000000 </td><td> None </td><td>        -inf </td><td>         inf </td><td> True </td></tr><tr><td> sigma1 </td><td>  0.04000000 </td><td> None </td><td>        -inf </td><td>         inf </td><td> True </td></tr><tr><td> a2 </td><td>  0.11000000 </td><td> None </td><td>        -inf </td><td>         inf </td><td> True </td></tr><tr><td> x02 </td><td> -1.85000000 </td><td> None </td><td>        -inf </td><td>         inf </td><td> True </td></tr><tr><td> sigma2 </td><td>  0.04000000 </td><td> None </td><td>        -inf </td><td>         inf </td><td> True </td></tr><tr><td> ax </td><td>  0.00000000 </td><td> None </td><td>        -inf </td><td>         inf </td><td> True </td></tr><tr><td> bx </td><td>  4.00000000 </td><td> None </td><td>        -inf </td><td>         inf </td><td> True </td></tr></table>"
      ],
      "text/plain": [
       "Parameters([('a1', <Parameter 'a1', value=0.11, bounds=[-inf:inf]>), ('x01', <Parameter 'x01', value=-2, bounds=[-inf:inf]>), ('sigma1', <Parameter 'sigma1', value=0.04, bounds=[-inf:inf]>), ('a2', <Parameter 'a2', value=0.11, bounds=[-inf:inf]>), ('x02', <Parameter 'x02', value=-1.85, bounds=[-inf:inf]>), ('sigma2', <Parameter 'sigma2', value=0.04, bounds=[-inf:inf]>), ('ax', <Parameter 'ax', value=0, bounds=[-inf:inf]>), ('bx', <Parameter 'bx', value=4, bounds=[-inf:inf]>)])"
      ]
     },
     "execution_count": 40,
     "metadata": {},
     "output_type": "execute_result"
    }
   ],
   "source": [
    "params"
   ]
  },
  {
   "cell_type": "markdown",
   "id": "df6cfb1d",
   "metadata": {},
   "source": [
    "Test our model guess to see if it roughly fits the data"
   ]
  },
  {
   "cell_type": "code",
   "execution_count": 41,
   "id": "f8774409",
   "metadata": {},
   "outputs": [],
   "source": [
    "x_eval = np.linspace(-2.5,-1.5)\n",
    "y_eval = gmodel.eval(x=x_eval,params = params)"
   ]
  },
  {
   "cell_type": "code",
   "execution_count": 42,
   "id": "fa6e66a8",
   "metadata": {},
   "outputs": [
    {
     "data": {
      "text/plain": [
       "[<matplotlib.lines.Line2D at 0x1603fcd7040>]"
      ]
     },
     "execution_count": 42,
     "metadata": {},
     "output_type": "execute_result"
    },
    {
     "data": {
      "image/png": "[encoded data removed]",
      "text/plain": [
       "<Figure size 432x288 with 1 Axes>"
      ]
     },
     "metadata": {
      "needs_background": "light"
     },
     "output_type": "display_data"
    }
   ],
   "source": [
    "plt.plot(data_1st_peak['angle'],data_1st_peak['intensity'])\n",
    "plt.plot(x_eval,y_eval)"
   ]
  },
  {
   "cell_type": "markdown",
   "id": "ad6ed514",
   "metadata": {},
   "source": [
    "Now perform the actual fit with our parameter guess"
   ]
  },
  {
   "cell_type": "code",
   "execution_count": 43,
   "id": "5dd3bdee",
   "metadata": {},
   "outputs": [],
   "source": [
    "result = gmodel.fit(data=data_1st_peak['intensity'], params=params, x=data_1st_peak['angle'])"
   ]
  },
  {
   "cell_type": "markdown",
   "id": "5fbfc8bc",
   "metadata": {},
   "source": [
    "retrieve the parameters and their uncertainties from the fit "
   ]
  },
  {
   "cell_type": "code",
   "execution_count": 44,
   "id": "eefe0720",
   "metadata": {},
   "outputs": [
    {
     "data": {
      "text/html": [
       "<table><tr><th> name </th><th> value </th><th> standard error </th><th> relative error </th><th> initial value </th><th> min </th><th> max </th><th> vary </th></tr><tr><td> a1 </td><td>  0.12589582 </td><td>  0.00557085 </td><td> (4.42%) </td><td> 0.11 </td><td>        -inf </td><td>         inf </td><td> True </td></tr><tr><td> x01 </td><td> -2.00066809 </td><td>  0.00247830 </td><td> (0.12%) </td><td> -2 </td><td>        -inf </td><td>         inf </td><td> True </td></tr><tr><td> sigma1 </td><td>  0.05319513 </td><td>  0.00238031 </td><td> (4.47%) </td><td> 0.04 </td><td>        -inf </td><td>         inf </td><td> True </td></tr><tr><td> a2 </td><td>  0.09771845 </td><td>  0.00558466 </td><td> (5.72%) </td><td> 0.11 </td><td>        -inf </td><td>         inf </td><td> True </td></tr><tr><td> x02 </td><td> -1.85089183 </td><td>  0.00283757 </td><td> (0.15%) </td><td> -1.85 </td><td>        -inf </td><td>         inf </td><td> True </td></tr><tr><td> sigma2 </td><td>  0.04933394 </td><td>  0.00267577 </td><td> (5.42%) </td><td> 0.04 </td><td>        -inf </td><td>         inf </td><td> True </td></tr><tr><td> ax </td><td>  0.32966960 </td><td>  0.01989471 </td><td> (6.03%) </td><td> 0 </td><td>        -inf </td><td>         inf </td><td> True </td></tr><tr><td> bx </td><td>  4.84270815 </td><td>  0.04140036 </td><td> (0.85%) </td><td> 4 </td><td>        -inf </td><td>         inf </td><td> True </td></tr></table>"
      ],
      "text/plain": [
       "Parameters([('a1', <Parameter 'a1', value=0.12589582028177015 +/- 0.00557, bounds=[-inf:inf]>), ('x01', <Parameter 'x01', value=-2.0006680890686153 +/- 0.00248, bounds=[-inf:inf]>), ('sigma1', <Parameter 'sigma1', value=0.05319512558407032 +/- 0.00238, bounds=[-inf:inf]>), ('a2', <Parameter 'a2', value=0.09771844981254964 +/- 0.00558, bounds=[-inf:inf]>), ('x02', <Parameter 'x02', value=-1.8508918271657067 +/- 0.00284, bounds=[-inf:inf]>), ('sigma2', <Parameter 'sigma2', value=0.049333937762689364 +/- 0.00268, bounds=[-inf:inf]>), ('ax', <Parameter 'ax', value=0.32966959669165385 +/- 0.0199, bounds=[-inf:inf]>), ('bx', <Parameter 'bx', value=4.8427081503696705 +/- 0.0414, bounds=[-inf:inf]>)])"
      ]
     },
     "execution_count": 44,
     "metadata": {},
     "output_type": "execute_result"
    }
   ],
   "source": [
    "result.params"
   ]
  },
  {
   "cell_type": "markdown",
   "id": "7a236dfc",
   "metadata": {},
   "source": [
    "Extracting the actual value (and its uncertainty) of a fitted parameter is a bit tricky but works as follows:"
   ]
  },
  {
   "cell_type": "code",
   "execution_count": 45,
   "id": "81059552",
   "metadata": {},
   "outputs": [
    {
     "data": {
      "text/plain": [
       "(-2.0006680890686153, 0.0024782961672320638)"
      ]
     },
     "execution_count": 45,
     "metadata": {},
     "output_type": "execute_result"
    }
   ],
   "source": [
    "result.params['x01'].value, result.params['x01'].stderr"
   ]
  },
  {
   "cell_type": "markdown",
   "id": "3dd5bfd1",
   "metadata": {},
   "source": [
    "Compare fit to data and save the plot"
   ]
  },
  {
   "cell_type": "code",
   "execution_count": 46,
   "id": "25b9200a",
   "metadata": {},
   "outputs": [
    {
     "data": {
      "image/png": "[encoded data removed]",
      "text/plain": [
       "<Figure size 432x288 with 1 Axes>"
      ]
     },
     "metadata": {
      "needs_background": "light"
     },
     "output_type": "display_data"
    }
   ],
   "source": [
    "plt.plot(data_1st_peak['angle'],data_1st_peak['intensity'])\n",
    "plt.plot(x_eval,result.eval(params=result.params,x=x_eval))\n",
    "plt.savefig('fitted_data.png')"
   ]
  },
  {
   "cell_type": "markdown",
   "id": "7e4a7db5",
   "metadata": {},
   "source": [
    "recieve the fit report that includes a lot of interesting parameters like red. chi-square"
   ]
  },
  {
   "cell_type": "code",
   "execution_count": 47,
   "id": "d8e112c4",
   "metadata": {},
   "outputs": [
    {
     "data": {
      "text/html": [
       "<h2> Model</h2> Model(Double_Gaussian_lin_off) <h2>Fit Statistics</h2><table><tr><td>fitting method</td><td>leastsq</td><td></td></tr><tr><td># function evals</td><td>46</td><td></td></tr><tr><td># data points</td><td>100</td><td></td></tr><tr><td># variables</td><td>8</td><td></td></tr><tr><td>chi-square</td><td> 0.26870287</td><td></td></tr><tr><td>reduced chi-square</td><td> 0.00292068</td><td></td></tr><tr><td>Akaike info crit.</td><td>-575.931928</td><td></td></tr><tr><td>Bayesian info crit.</td><td>-555.090567</td><td></td></tr></table><h2>Variables</h2><table><tr><th> name </th><th> value </th><th> standard error </th><th> relative error </th><th> initial value </th><th> min </th><th> max </th><th> vary </th></tr><tr><td> a1 </td><td>  0.12589582 </td><td>  0.00557085 </td><td> (4.42%) </td><td> 0.11 </td><td>        -inf </td><td>         inf </td><td> True </td></tr><tr><td> x01 </td><td> -2.00066809 </td><td>  0.00247830 </td><td> (0.12%) </td><td> -2 </td><td>        -inf </td><td>         inf </td><td> True </td></tr><tr><td> sigma1 </td><td>  0.05319513 </td><td>  0.00238031 </td><td> (4.47%) </td><td> 0.04 </td><td>        -inf </td><td>         inf </td><td> True </td></tr><tr><td> a2 </td><td>  0.09771845 </td><td>  0.00558466 </td><td> (5.72%) </td><td> 0.11 </td><td>        -inf </td><td>         inf </td><td> True </td></tr><tr><td> x02 </td><td> -1.85089183 </td><td>  0.00283757 </td><td> (0.15%) </td><td> -1.85 </td><td>        -inf </td><td>         inf </td><td> True </td></tr><tr><td> sigma2 </td><td>  0.04933394 </td><td>  0.00267577 </td><td> (5.42%) </td><td> 0.04 </td><td>        -inf </td><td>         inf </td><td> True </td></tr><tr><td> ax </td><td>  0.32966960 </td><td>  0.01989471 </td><td> (6.03%) </td><td> 0 </td><td>        -inf </td><td>         inf </td><td> True </td></tr><tr><td> bx </td><td>  4.84270815 </td><td>  0.04140036 </td><td> (0.85%) </td><td> 4 </td><td>        -inf </td><td>         inf </td><td> True </td></tr></table><h2>Correlations (unreported correlations are < 0.100)</h2><table><tr><td>ax</td><td>bx</td><td>0.9855</td></tr><tr><td>a1</td><td>sigma1</td><td>0.8545</td></tr><tr><td>a2</td><td>sigma2</td><td>0.8535</td></tr><tr><td>a1</td><td>x02</td><td>0.7481</td></tr><tr><td>x01</td><td>a2</td><td>-0.7469</td></tr><tr><td>sigma1</td><td>x02</td><td>0.7272</td></tr><tr><td>x01</td><td>x02</td><td>0.7249</td></tr><tr><td>x01</td><td>sigma2</td><td>-0.7173</td></tr><tr><td>sigma1</td><td>a2</td><td>-0.6749</td></tr><tr><td>a1</td><td>a2</td><td>-0.6608</td></tr><tr><td>a1</td><td>sigma2</td><td>-0.6498</td></tr><tr><td>a1</td><td>x01</td><td>0.6434</td></tr><tr><td>a2</td><td>x02</td><td>-0.6307</td></tr><tr><td>x01</td><td>sigma1</td><td>0.6290</td></tr><tr><td>x02</td><td>sigma2</td><td>-0.6026</td></tr><tr><td>sigma1</td><td>sigma2</td><td>-0.5967</td></tr><tr><td>a2</td><td>bx</td><td>-0.2953</td></tr><tr><td>a2</td><td>ax</td><td>-0.2593</td></tr><tr><td>sigma2</td><td>bx</td><td>-0.2154</td></tr><tr><td>sigma2</td><td>ax</td><td>-0.1952</td></tr></table>"
      ],
      "text/plain": [
       "<lmfit.model.ModelResult at 0x1603fc20a90>"
      ]
     },
     "execution_count": 47,
     "metadata": {},
     "output_type": "execute_result"
    }
   ],
   "source": [
    "result"
   ]
  },
  {
   "cell_type": "markdown",
   "id": "5ad112ed",
   "metadata": {},
   "source": [
    "If you have questions or feedback regarding this notebook please feel free to write an email to nk7@uni-bonn.de . Cheers, Nick"
   ]
  }
 ],
 "metadata": {
  "kernelspec": {
   "display_name": "Python 3 (ipykernel)",
   "language": "python",
   "name": "python3"
  },
  "language_info": {
   "codemirror_mode": {
    "name": "ipython",
    "version": 3
   },
   "file_extension": ".py",
   "mimetype": "text/x-python",
   "name": "python",
   "nbconvert_exporter": "python",
   "pygments_lexer": "ipython3",
   "version": "3.9.10"
  }
 },
 "nbformat": 4,
 "nbformat_minor": 5
}
